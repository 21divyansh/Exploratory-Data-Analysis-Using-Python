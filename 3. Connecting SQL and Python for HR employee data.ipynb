{
 "cells": [
  {
   "cell_type": "markdown",
   "id": "202a4ff7",
   "metadata": {},
   "source": [
    "## Task 1: Write an SQL query in Python to extract the country names and regions associated with them."
   ]
  },
  {
   "cell_type": "code",
   "execution_count": 1,
   "id": "c9b5c7b2",
   "metadata": {
    "collapsed": true
   },
   "outputs": [
    {
     "name": "stdout",
     "output_type": "stream",
     "text": [
      "Requirement already satisfied: mysql-connector-python in c:\\users\\21div\\anaconda3\\lib\\site-packages (8.2.0)\n",
      "Requirement already satisfied: protobuf<=4.21.12,>=4.21.1 in c:\\users\\21div\\anaconda3\\lib\\site-packages (from mysql-connector-python) (4.21.12)\n",
      "Note: you may need to restart the kernel to use updated packages.\n"
     ]
    }
   ],
   "source": [
    "pip install mysql-connector-python"
   ]
  },
  {
   "cell_type": "code",
   "execution_count": 2,
   "id": "87ae7ce4",
   "metadata": {},
   "outputs": [],
   "source": [
    "import mysql.connector as sql"
   ]
  },
  {
   "cell_type": "code",
   "execution_count": 83,
   "id": "489d0386",
   "metadata": {},
   "outputs": [],
   "source": [
    "db=sql.connect(host='localhost',user='root',password='12345',database='hr')\n",
    "cursor=db.cursor()"
   ]
  },
  {
   "cell_type": "code",
   "execution_count": 84,
   "id": "774f06aa",
   "metadata": {},
   "outputs": [
    {
     "data": {
      "text/plain": [
       "[('AR', 'Argentina', 2),\n",
       " ('AU', 'Australia', 3),\n",
       " ('BE', 'Belgium', 1),\n",
       " ('BR', 'Brazil', 2),\n",
       " ('CA', 'Canada', 2),\n",
       " ('CH', 'Switzerland', 1),\n",
       " ('CN', 'China', 3),\n",
       " ('DE', 'Germany', 1),\n",
       " ('DK', 'Denmark', 1),\n",
       " ('EG', 'Egypt', 4),\n",
       " ('FR', 'France', 1),\n",
       " ('HK', 'HongKong', 3),\n",
       " ('IL', 'Israel', 4),\n",
       " ('IN', 'India', 3),\n",
       " ('IT', 'Italy', 1),\n",
       " ('JP', 'Japan', 3),\n",
       " ('KW', 'Kuwait', 4),\n",
       " ('MX', 'Mexico', 2),\n",
       " ('NG', 'Nigeria', 4),\n",
       " ('NL', 'Netherlands', 1),\n",
       " ('SG', 'Singapore', 3),\n",
       " ('UK', 'United Kingdom', 1),\n",
       " ('US', 'United States of America', 2),\n",
       " ('ZM', 'Zambia', 4),\n",
       " ('ZW', 'Zimbabwe', 4)]"
      ]
     },
     "execution_count": 84,
     "metadata": {},
     "output_type": "execute_result"
    }
   ],
   "source": [
    "data=\"SELECT*FROM countries\"\n",
    "cursor.execute(data)\n",
    "data1=cursor.fetchall()\n",
    "data1"
   ]
  },
  {
   "cell_type": "code",
   "execution_count": 29,
   "id": "28f79dec",
   "metadata": {},
   "outputs": [
    {
     "data": {
      "text/plain": [
       "[(1, 'Europe'), (2, 'Americas'), (3, 'Asia'), (4, 'Middle East and Africa')]"
      ]
     },
     "execution_count": 29,
     "metadata": {},
     "output_type": "execute_result"
    }
   ],
   "source": [
    "data2=\"SELECT * FROM regions\"\n",
    "cursor.execute(data2)\n",
    "data3=cursor.fetchall()\n",
    "data3"
   ]
  },
  {
   "cell_type": "code",
   "execution_count": 30,
   "id": "0eb6f9e7",
   "metadata": {},
   "outputs": [
    {
     "name": "stdout",
     "output_type": "stream",
     "text": [
      "('Argentina', 'Americas')\n",
      "('Australia', 'Asia')\n",
      "('Belgium', 'Europe')\n",
      "('Brazil', 'Americas')\n",
      "('Canada', 'Americas')\n",
      "('Switzerland', 'Europe')\n",
      "('China', 'Asia')\n",
      "('Germany', 'Europe')\n",
      "('Denmark', 'Europe')\n",
      "('Egypt', 'Middle East and Africa')\n",
      "('France', 'Europe')\n",
      "('HongKong', 'Asia')\n",
      "('Israel', 'Middle East and Africa')\n",
      "('India', 'Asia')\n",
      "('Italy', 'Europe')\n",
      "('Japan', 'Asia')\n",
      "('Kuwait', 'Middle East and Africa')\n",
      "('Mexico', 'Americas')\n",
      "('Nigeria', 'Middle East and Africa')\n",
      "('Netherlands', 'Europe')\n",
      "('Singapore', 'Asia')\n",
      "('United Kingdom', 'Europe')\n",
      "('United States of America', 'Americas')\n",
      "('Zambia', 'Middle East and Africa')\n",
      "('Zimbabwe', 'Middle East and Africa')\n"
     ]
    }
   ],
   "source": [
    "join=\"SELECT country_name,region_name FROM hr.regions r RIGHT JOIN hr.countries c ON r.region_id=c.region_id;\"\n",
    "cursor.execute(join)\n",
    "for i in cursor:\n",
    "    print(i)"
   ]
  },
  {
   "cell_type": "markdown",
   "id": "ec42d460",
   "metadata": {},
   "source": [
    "## Task 2: Display the country-wise employee counts in a new table and push it into an RDBMS. This needs joining of tables. Once task is completed, this query can be executed directly using MYSQL witout the need of join."
   ]
  },
  {
   "cell_type": "code",
   "execution_count": 38,
   "id": "cf53cdb9",
   "metadata": {},
   "outputs": [],
   "source": [
    "import pandas as pd\n",
    "from sqlalchemy import create_engine\n",
    "import matplotlib.pyplot as plt"
   ]
  },
  {
   "cell_type": "code",
   "execution_count": 39,
   "id": "6f9c3d7c",
   "metadata": {},
   "outputs": [
    {
     "data": {
      "text/plain": [
       "[('Australia', 2889),\n",
       " ('Brazil', 2889),\n",
       " ('Canada', 5778),\n",
       " ('Switzerland', 5778),\n",
       " ('China', 2889),\n",
       " ('Germany', 2889),\n",
       " ('India', 2889),\n",
       " ('Italy', 5778),\n",
       " ('Japan', 5778),\n",
       " ('Mexico', 2889),\n",
       " ('Netherlands', 2889),\n",
       " ('Singapore', 2889),\n",
       " ('United Kingdom', 8667),\n",
       " ('United States of America', 11556)]"
      ]
     },
     "execution_count": 39,
     "metadata": {},
     "output_type": "execute_result"
    }
   ],
   "source": [
    "sql1=(\"select country_name,count(employee_id) from countries inner join locations inner join departments inner join employees on countries.country_id=locations.country_id group by country_name\")\n",
    "cursor.execute(sql1)\n",
    "emp_cnt=cursor.fetchall()\n",
    "emp_cnt"
   ]
  },
  {
   "cell_type": "code",
   "execution_count": 40,
   "id": "8df4cfc1",
   "metadata": {},
   "outputs": [
    {
     "data": {
      "text/html": [
       "<div>\n",
       "<style scoped>\n",
       "    .dataframe tbody tr th:only-of-type {\n",
       "        vertical-align: middle;\n",
       "    }\n",
       "\n",
       "    .dataframe tbody tr th {\n",
       "        vertical-align: top;\n",
       "    }\n",
       "\n",
       "    .dataframe thead th {\n",
       "        text-align: right;\n",
       "    }\n",
       "</style>\n",
       "<table border=\"1\" class=\"dataframe\">\n",
       "  <thead>\n",
       "    <tr style=\"text-align: right;\">\n",
       "      <th></th>\n",
       "      <th>Country names</th>\n",
       "      <th>Counts of employees</th>\n",
       "    </tr>\n",
       "  </thead>\n",
       "  <tbody>\n",
       "    <tr>\n",
       "      <th>0</th>\n",
       "      <td>Australia</td>\n",
       "      <td>2889</td>\n",
       "    </tr>\n",
       "    <tr>\n",
       "      <th>1</th>\n",
       "      <td>Brazil</td>\n",
       "      <td>2889</td>\n",
       "    </tr>\n",
       "    <tr>\n",
       "      <th>2</th>\n",
       "      <td>Canada</td>\n",
       "      <td>5778</td>\n",
       "    </tr>\n",
       "    <tr>\n",
       "      <th>3</th>\n",
       "      <td>Switzerland</td>\n",
       "      <td>5778</td>\n",
       "    </tr>\n",
       "    <tr>\n",
       "      <th>4</th>\n",
       "      <td>China</td>\n",
       "      <td>2889</td>\n",
       "    </tr>\n",
       "    <tr>\n",
       "      <th>5</th>\n",
       "      <td>Germany</td>\n",
       "      <td>2889</td>\n",
       "    </tr>\n",
       "    <tr>\n",
       "      <th>6</th>\n",
       "      <td>India</td>\n",
       "      <td>2889</td>\n",
       "    </tr>\n",
       "    <tr>\n",
       "      <th>7</th>\n",
       "      <td>Italy</td>\n",
       "      <td>5778</td>\n",
       "    </tr>\n",
       "    <tr>\n",
       "      <th>8</th>\n",
       "      <td>Japan</td>\n",
       "      <td>5778</td>\n",
       "    </tr>\n",
       "    <tr>\n",
       "      <th>9</th>\n",
       "      <td>Mexico</td>\n",
       "      <td>2889</td>\n",
       "    </tr>\n",
       "    <tr>\n",
       "      <th>10</th>\n",
       "      <td>Netherlands</td>\n",
       "      <td>2889</td>\n",
       "    </tr>\n",
       "    <tr>\n",
       "      <th>11</th>\n",
       "      <td>Singapore</td>\n",
       "      <td>2889</td>\n",
       "    </tr>\n",
       "    <tr>\n",
       "      <th>12</th>\n",
       "      <td>United Kingdom</td>\n",
       "      <td>8667</td>\n",
       "    </tr>\n",
       "    <tr>\n",
       "      <th>13</th>\n",
       "      <td>United States of America</td>\n",
       "      <td>11556</td>\n",
       "    </tr>\n",
       "  </tbody>\n",
       "</table>\n",
       "</div>"
      ],
      "text/plain": [
       "               Country names  Counts of employees\n",
       "0                  Australia                 2889\n",
       "1                     Brazil                 2889\n",
       "2                     Canada                 5778\n",
       "3                Switzerland                 5778\n",
       "4                      China                 2889\n",
       "5                    Germany                 2889\n",
       "6                      India                 2889\n",
       "7                      Italy                 5778\n",
       "8                      Japan                 5778\n",
       "9                     Mexico                 2889\n",
       "10               Netherlands                 2889\n",
       "11                 Singapore                 2889\n",
       "12            United Kingdom                 8667\n",
       "13  United States of America                11556"
      ]
     },
     "execution_count": 40,
     "metadata": {},
     "output_type": "execute_result"
    }
   ],
   "source": [
    "df_emp=pd.DataFrame(emp_cnt,columns=['Country names','Counts of employees'])\n",
    "df_emp"
   ]
  },
  {
   "cell_type": "code",
   "execution_count": 41,
   "id": "de7b70d7",
   "metadata": {
    "collapsed": true
   },
   "outputs": [
    {
     "ename": "ValueError",
     "evalue": "Table 'Country_wise_count' already exists.",
     "output_type": "error",
     "traceback": [
      "\u001b[1;31m---------------------------------------------------------------------------\u001b[0m",
      "\u001b[1;31mValueError\u001b[0m                                Traceback (most recent call last)",
      "Cell \u001b[1;32mIn[41], line 14\u001b[0m\n\u001b[0;32m     10\u001b[0m engine \u001b[38;5;241m=\u001b[39m create_engine(\u001b[38;5;124m\"\u001b[39m\u001b[38;5;124mmysql+pymysql://\u001b[39m\u001b[38;5;132;01m{user}\u001b[39;00m\u001b[38;5;124m:\u001b[39m\u001b[38;5;132;01m{pw}\u001b[39;00m\u001b[38;5;124m@\u001b[39m\u001b[38;5;132;01m{host}\u001b[39;00m\u001b[38;5;124m/\u001b[39m\u001b[38;5;132;01m{db}\u001b[39;00m\u001b[38;5;124m\"\u001b[39m\n\u001b[0;32m     11\u001b[0m \u001b[38;5;241m.\u001b[39mformat(host\u001b[38;5;241m=\u001b[39mhostname, db\u001b[38;5;241m=\u001b[39mdbname, user\u001b[38;5;241m=\u001b[39muname, pw\u001b[38;5;241m=\u001b[39mpwd))\n\u001b[0;32m     13\u001b[0m \u001b[38;5;66;03m# Convert dataframe to sql table                                   \u001b[39;00m\n\u001b[1;32m---> 14\u001b[0m df_emp\u001b[38;5;241m.\u001b[39mto_sql(\u001b[38;5;124m'\u001b[39m\u001b[38;5;124mCountry_wise_count\u001b[39m\u001b[38;5;124m'\u001b[39m, engine, index\u001b[38;5;241m=\u001b[39m\u001b[38;5;28;01mFalse\u001b[39;00m)\n",
      "File \u001b[1;32m~\\anaconda3\\Lib\\site-packages\\pandas\\core\\generic.py:2878\u001b[0m, in \u001b[0;36mNDFrame.to_sql\u001b[1;34m(self, name, con, schema, if_exists, index, index_label, chunksize, dtype, method)\u001b[0m\n\u001b[0;32m   2713\u001b[0m \u001b[38;5;250m\u001b[39m\u001b[38;5;124;03m\"\"\"\u001b[39;00m\n\u001b[0;32m   2714\u001b[0m \u001b[38;5;124;03mWrite records stored in a DataFrame to a SQL database.\u001b[39;00m\n\u001b[0;32m   2715\u001b[0m \n\u001b[1;32m   (...)\u001b[0m\n\u001b[0;32m   2874\u001b[0m \u001b[38;5;124;03m[(1,), (None,), (2,)]\u001b[39;00m\n\u001b[0;32m   2875\u001b[0m \u001b[38;5;124;03m\"\"\"\u001b[39;00m  \u001b[38;5;66;03m# noqa:E501\u001b[39;00m\n\u001b[0;32m   2876\u001b[0m \u001b[38;5;28;01mfrom\u001b[39;00m \u001b[38;5;21;01mpandas\u001b[39;00m\u001b[38;5;21;01m.\u001b[39;00m\u001b[38;5;21;01mio\u001b[39;00m \u001b[38;5;28;01mimport\u001b[39;00m sql\n\u001b[1;32m-> 2878\u001b[0m \u001b[38;5;28;01mreturn\u001b[39;00m sql\u001b[38;5;241m.\u001b[39mto_sql(\n\u001b[0;32m   2879\u001b[0m     \u001b[38;5;28mself\u001b[39m,\n\u001b[0;32m   2880\u001b[0m     name,\n\u001b[0;32m   2881\u001b[0m     con,\n\u001b[0;32m   2882\u001b[0m     schema\u001b[38;5;241m=\u001b[39mschema,\n\u001b[0;32m   2883\u001b[0m     if_exists\u001b[38;5;241m=\u001b[39mif_exists,\n\u001b[0;32m   2884\u001b[0m     index\u001b[38;5;241m=\u001b[39mindex,\n\u001b[0;32m   2885\u001b[0m     index_label\u001b[38;5;241m=\u001b[39mindex_label,\n\u001b[0;32m   2886\u001b[0m     chunksize\u001b[38;5;241m=\u001b[39mchunksize,\n\u001b[0;32m   2887\u001b[0m     dtype\u001b[38;5;241m=\u001b[39mdtype,\n\u001b[0;32m   2888\u001b[0m     method\u001b[38;5;241m=\u001b[39mmethod,\n\u001b[0;32m   2889\u001b[0m )\n",
      "File \u001b[1;32m~\\anaconda3\\Lib\\site-packages\\pandas\\io\\sql.py:769\u001b[0m, in \u001b[0;36mto_sql\u001b[1;34m(frame, name, con, schema, if_exists, index, index_label, chunksize, dtype, method, engine, **engine_kwargs)\u001b[0m\n\u001b[0;32m    764\u001b[0m     \u001b[38;5;28;01mraise\u001b[39;00m \u001b[38;5;167;01mNotImplementedError\u001b[39;00m(\n\u001b[0;32m    765\u001b[0m         \u001b[38;5;124m\"\u001b[39m\u001b[38;5;124m'\u001b[39m\u001b[38;5;124mframe\u001b[39m\u001b[38;5;124m'\u001b[39m\u001b[38;5;124m argument should be either a Series or a DataFrame\u001b[39m\u001b[38;5;124m\"\u001b[39m\n\u001b[0;32m    766\u001b[0m     )\n\u001b[0;32m    768\u001b[0m \u001b[38;5;28;01mwith\u001b[39;00m pandasSQL_builder(con, schema\u001b[38;5;241m=\u001b[39mschema, need_transaction\u001b[38;5;241m=\u001b[39m\u001b[38;5;28;01mTrue\u001b[39;00m) \u001b[38;5;28;01mas\u001b[39;00m pandas_sql:\n\u001b[1;32m--> 769\u001b[0m     \u001b[38;5;28;01mreturn\u001b[39;00m pandas_sql\u001b[38;5;241m.\u001b[39mto_sql(\n\u001b[0;32m    770\u001b[0m         frame,\n\u001b[0;32m    771\u001b[0m         name,\n\u001b[0;32m    772\u001b[0m         if_exists\u001b[38;5;241m=\u001b[39mif_exists,\n\u001b[0;32m    773\u001b[0m         index\u001b[38;5;241m=\u001b[39mindex,\n\u001b[0;32m    774\u001b[0m         index_label\u001b[38;5;241m=\u001b[39mindex_label,\n\u001b[0;32m    775\u001b[0m         schema\u001b[38;5;241m=\u001b[39mschema,\n\u001b[0;32m    776\u001b[0m         chunksize\u001b[38;5;241m=\u001b[39mchunksize,\n\u001b[0;32m    777\u001b[0m         dtype\u001b[38;5;241m=\u001b[39mdtype,\n\u001b[0;32m    778\u001b[0m         method\u001b[38;5;241m=\u001b[39mmethod,\n\u001b[0;32m    779\u001b[0m         engine\u001b[38;5;241m=\u001b[39mengine,\n\u001b[0;32m    780\u001b[0m         \u001b[38;5;241m*\u001b[39m\u001b[38;5;241m*\u001b[39mengine_kwargs,\n\u001b[0;32m    781\u001b[0m     )\n",
      "File \u001b[1;32m~\\anaconda3\\Lib\\site-packages\\pandas\\io\\sql.py:1910\u001b[0m, in \u001b[0;36mSQLDatabase.to_sql\u001b[1;34m(self, frame, name, if_exists, index, index_label, schema, chunksize, dtype, method, engine, **engine_kwargs)\u001b[0m\n\u001b[0;32m   1860\u001b[0m \u001b[38;5;250m\u001b[39m\u001b[38;5;124;03m\"\"\"\u001b[39;00m\n\u001b[0;32m   1861\u001b[0m \u001b[38;5;124;03mWrite records stored in a DataFrame to a SQL database.\u001b[39;00m\n\u001b[0;32m   1862\u001b[0m \n\u001b[1;32m   (...)\u001b[0m\n\u001b[0;32m   1906\u001b[0m \u001b[38;5;124;03m    Any additional kwargs are passed to the engine.\u001b[39;00m\n\u001b[0;32m   1907\u001b[0m \u001b[38;5;124;03m\"\"\"\u001b[39;00m\n\u001b[0;32m   1908\u001b[0m sql_engine \u001b[38;5;241m=\u001b[39m get_engine(engine)\n\u001b[1;32m-> 1910\u001b[0m table \u001b[38;5;241m=\u001b[39m \u001b[38;5;28mself\u001b[39m\u001b[38;5;241m.\u001b[39mprep_table(\n\u001b[0;32m   1911\u001b[0m     frame\u001b[38;5;241m=\u001b[39mframe,\n\u001b[0;32m   1912\u001b[0m     name\u001b[38;5;241m=\u001b[39mname,\n\u001b[0;32m   1913\u001b[0m     if_exists\u001b[38;5;241m=\u001b[39mif_exists,\n\u001b[0;32m   1914\u001b[0m     index\u001b[38;5;241m=\u001b[39mindex,\n\u001b[0;32m   1915\u001b[0m     index_label\u001b[38;5;241m=\u001b[39mindex_label,\n\u001b[0;32m   1916\u001b[0m     schema\u001b[38;5;241m=\u001b[39mschema,\n\u001b[0;32m   1917\u001b[0m     dtype\u001b[38;5;241m=\u001b[39mdtype,\n\u001b[0;32m   1918\u001b[0m )\n\u001b[0;32m   1920\u001b[0m total_inserted \u001b[38;5;241m=\u001b[39m sql_engine\u001b[38;5;241m.\u001b[39minsert_records(\n\u001b[0;32m   1921\u001b[0m     table\u001b[38;5;241m=\u001b[39mtable,\n\u001b[0;32m   1922\u001b[0m     con\u001b[38;5;241m=\u001b[39m\u001b[38;5;28mself\u001b[39m\u001b[38;5;241m.\u001b[39mcon,\n\u001b[1;32m   (...)\u001b[0m\n\u001b[0;32m   1929\u001b[0m     \u001b[38;5;241m*\u001b[39m\u001b[38;5;241m*\u001b[39mengine_kwargs,\n\u001b[0;32m   1930\u001b[0m )\n\u001b[0;32m   1932\u001b[0m \u001b[38;5;28mself\u001b[39m\u001b[38;5;241m.\u001b[39mcheck_case_sensitive(name\u001b[38;5;241m=\u001b[39mname, schema\u001b[38;5;241m=\u001b[39mschema)\n",
      "File \u001b[1;32m~\\anaconda3\\Lib\\site-packages\\pandas\\io\\sql.py:1814\u001b[0m, in \u001b[0;36mSQLDatabase.prep_table\u001b[1;34m(self, frame, name, if_exists, index, index_label, schema, dtype)\u001b[0m\n\u001b[0;32m   1802\u001b[0m             \u001b[38;5;28;01mraise\u001b[39;00m \u001b[38;5;167;01mValueError\u001b[39;00m(\u001b[38;5;124mf\u001b[39m\u001b[38;5;124m\"\u001b[39m\u001b[38;5;124mThe type of \u001b[39m\u001b[38;5;132;01m{\u001b[39;00mcol\u001b[38;5;132;01m}\u001b[39;00m\u001b[38;5;124m is not a SQLAlchemy type\u001b[39m\u001b[38;5;124m\"\u001b[39m)\n\u001b[0;32m   1804\u001b[0m table \u001b[38;5;241m=\u001b[39m SQLTable(\n\u001b[0;32m   1805\u001b[0m     name,\n\u001b[0;32m   1806\u001b[0m     \u001b[38;5;28mself\u001b[39m,\n\u001b[1;32m   (...)\u001b[0m\n\u001b[0;32m   1812\u001b[0m     dtype\u001b[38;5;241m=\u001b[39mdtype,\n\u001b[0;32m   1813\u001b[0m )\n\u001b[1;32m-> 1814\u001b[0m table\u001b[38;5;241m.\u001b[39mcreate()\n\u001b[0;32m   1815\u001b[0m \u001b[38;5;28;01mreturn\u001b[39;00m table\n",
      "File \u001b[1;32m~\\anaconda3\\Lib\\site-packages\\pandas\\io\\sql.py:905\u001b[0m, in \u001b[0;36mSQLTable.create\u001b[1;34m(self)\u001b[0m\n\u001b[0;32m    903\u001b[0m \u001b[38;5;28;01mif\u001b[39;00m \u001b[38;5;28mself\u001b[39m\u001b[38;5;241m.\u001b[39mexists():\n\u001b[0;32m    904\u001b[0m     \u001b[38;5;28;01mif\u001b[39;00m \u001b[38;5;28mself\u001b[39m\u001b[38;5;241m.\u001b[39mif_exists \u001b[38;5;241m==\u001b[39m \u001b[38;5;124m\"\u001b[39m\u001b[38;5;124mfail\u001b[39m\u001b[38;5;124m\"\u001b[39m:\n\u001b[1;32m--> 905\u001b[0m         \u001b[38;5;28;01mraise\u001b[39;00m \u001b[38;5;167;01mValueError\u001b[39;00m(\u001b[38;5;124mf\u001b[39m\u001b[38;5;124m\"\u001b[39m\u001b[38;5;124mTable \u001b[39m\u001b[38;5;124m'\u001b[39m\u001b[38;5;132;01m{\u001b[39;00m\u001b[38;5;28mself\u001b[39m\u001b[38;5;241m.\u001b[39mname\u001b[38;5;132;01m}\u001b[39;00m\u001b[38;5;124m'\u001b[39m\u001b[38;5;124m already exists.\u001b[39m\u001b[38;5;124m\"\u001b[39m)\n\u001b[0;32m    906\u001b[0m     \u001b[38;5;28;01mif\u001b[39;00m \u001b[38;5;28mself\u001b[39m\u001b[38;5;241m.\u001b[39mif_exists \u001b[38;5;241m==\u001b[39m \u001b[38;5;124m\"\u001b[39m\u001b[38;5;124mreplace\u001b[39m\u001b[38;5;124m\"\u001b[39m:\n\u001b[0;32m    907\u001b[0m         \u001b[38;5;28mself\u001b[39m\u001b[38;5;241m.\u001b[39mpd_sql\u001b[38;5;241m.\u001b[39mdrop_table(\u001b[38;5;28mself\u001b[39m\u001b[38;5;241m.\u001b[39mname, \u001b[38;5;28mself\u001b[39m\u001b[38;5;241m.\u001b[39mschema)\n",
      "\u001b[1;31mValueError\u001b[0m: Table 'Country_wise_count' already exists."
     ]
    }
   ],
   "source": [
    "import pandas as pd\n",
    "from sqlalchemy import create_engine\n",
    "\n",
    "hostname=\"localhost\"\n",
    "dbname=\"hr\"\n",
    "uname=\"root\"\n",
    "pwd=\"12345\"\n",
    "\n",
    "engine = create_engine(\"mysql+pymysql://{user}:{pw}@{host}/{db}\"\n",
    ".format(host=hostname, db=dbname, user=uname, pw=pwd))\n",
    "\n",
    "# Convert dataframe to sql table                                   \n",
    "df_emp.to_sql('Country_wise_count', engine, index=False) # country wise count details is the name of the table"
   ]
  },
  {
   "cell_type": "markdown",
   "id": "9cb3d96b",
   "metadata": {},
   "source": [
    "## Task 3: Display country-wise and city-wise employee counts. "
   ]
  },
  {
   "cell_type": "code",
   "execution_count": 85,
   "id": "5055e8b2",
   "metadata": {},
   "outputs": [
    {
     "data": {
      "text/plain": [
       "[('United States of America', 'Southlake', 5),\n",
       " ('United States of America', 'South San Francisco', 45),\n",
       " ('United States of America', 'Seattle', 18),\n",
       " ('Canada', 'Toronto', 2),\n",
       " ('United Kingdom', 'London', 1),\n",
       " ('United Kingdom', 'Oxford', 34),\n",
       " ('Germany', 'Munich', 1)]"
      ]
     },
     "execution_count": 85,
     "metadata": {},
     "output_type": "execute_result"
    }
   ],
   "source": [
    "cursor.execute(\"\"\"SELECT countries.country_name, locations.city, COUNT(employees.employee_id) AS employee_count\n",
    "FROM countries\n",
    "INNER JOIN locations ON countries.country_id = locations.country_id\n",
    "INNER JOIN departments ON locations.location_id = departments.location_id\n",
    "INNER JOIN employees ON employees.department_id = departments.department_id\n",
    "GROUP BY countries.country_name, locations.city\"\"\")\n",
    "\n",
    "result =cursor.fetchall()\n",
    "result"
   ]
  },
  {
   "cell_type": "code",
   "execution_count": 86,
   "id": "d363d6e4",
   "metadata": {},
   "outputs": [
    {
     "data": {
      "text/html": [
       "<div>\n",
       "<style scoped>\n",
       "    .dataframe tbody tr th:only-of-type {\n",
       "        vertical-align: middle;\n",
       "    }\n",
       "\n",
       "    .dataframe tbody tr th {\n",
       "        vertical-align: top;\n",
       "    }\n",
       "\n",
       "    .dataframe thead th {\n",
       "        text-align: right;\n",
       "    }\n",
       "</style>\n",
       "<table border=\"1\" class=\"dataframe\">\n",
       "  <thead>\n",
       "    <tr style=\"text-align: right;\">\n",
       "      <th></th>\n",
       "      <th>Country name</th>\n",
       "      <th>city</th>\n",
       "      <th>count of employees</th>\n",
       "    </tr>\n",
       "  </thead>\n",
       "  <tbody>\n",
       "    <tr>\n",
       "      <th>0</th>\n",
       "      <td>United States of America</td>\n",
       "      <td>Southlake</td>\n",
       "      <td>5</td>\n",
       "    </tr>\n",
       "    <tr>\n",
       "      <th>1</th>\n",
       "      <td>United States of America</td>\n",
       "      <td>South San Francisco</td>\n",
       "      <td>45</td>\n",
       "    </tr>\n",
       "    <tr>\n",
       "      <th>2</th>\n",
       "      <td>United States of America</td>\n",
       "      <td>Seattle</td>\n",
       "      <td>18</td>\n",
       "    </tr>\n",
       "    <tr>\n",
       "      <th>3</th>\n",
       "      <td>Canada</td>\n",
       "      <td>Toronto</td>\n",
       "      <td>2</td>\n",
       "    </tr>\n",
       "    <tr>\n",
       "      <th>4</th>\n",
       "      <td>United Kingdom</td>\n",
       "      <td>London</td>\n",
       "      <td>1</td>\n",
       "    </tr>\n",
       "    <tr>\n",
       "      <th>5</th>\n",
       "      <td>United Kingdom</td>\n",
       "      <td>Oxford</td>\n",
       "      <td>34</td>\n",
       "    </tr>\n",
       "    <tr>\n",
       "      <th>6</th>\n",
       "      <td>Germany</td>\n",
       "      <td>Munich</td>\n",
       "      <td>1</td>\n",
       "    </tr>\n",
       "  </tbody>\n",
       "</table>\n",
       "</div>"
      ],
      "text/plain": [
       "               Country name                 city  count of employees\n",
       "0  United States of America            Southlake                   5\n",
       "1  United States of America  South San Francisco                  45\n",
       "2  United States of America              Seattle                  18\n",
       "3                    Canada              Toronto                   2\n",
       "4            United Kingdom               London                   1\n",
       "5            United Kingdom               Oxford                  34\n",
       "6                   Germany               Munich                   1"
      ]
     },
     "execution_count": 86,
     "metadata": {},
     "output_type": "execute_result"
    }
   ],
   "source": [
    "df_data2=pd.DataFrame(result,columns=['Country name','city','count of employees'])\n",
    "df_data2"
   ]
  },
  {
   "cell_type": "code",
   "execution_count": 100,
   "id": "583674aa",
   "metadata": {},
   "outputs": [],
   "source": [
    "df_data2.sort_values(['count of employees'],ascending=False,inplace=True)"
   ]
  },
  {
   "cell_type": "code",
   "execution_count": 104,
   "id": "62cf3233",
   "metadata": {},
   "outputs": [
    {
     "data": {
      "image/png": "[encoded data removed]",
      "text/plain": [
       "<Figure size 640x480 with 1 Axes>"
      ]
     },
     "metadata": {},
     "output_type": "display_data"
    }
   ],
   "source": [
    "plt.barh(df_data2['Country name'],df_data2['count of employees'])\n",
    "plt.title('Country wise count of employees')\n",
    "plt.xlabel('Employee count')\n",
    "plt.ylabel('Country name')\n",
    "plt.show()"
   ]
  },
  {
   "cell_type": "markdown",
   "id": "e1f5dabb",
   "metadata": {},
   "source": [
    "#### Interpretation: Country 'United states of America' has the highest number of employees i.e, 45."
   ]
  },
  {
   "cell_type": "code",
   "execution_count": 105,
   "id": "692387e8",
   "metadata": {},
   "outputs": [
    {
     "data": {
      "image/png": "[encoded data removed]",
      "text/plain": [
       "<Figure size 640x480 with 1 Axes>"
      ]
     },
     "metadata": {},
     "output_type": "display_data"
    }
   ],
   "source": [
    "plt.barh(df_data2['city'],df_data2['count of employees'])\n",
    "plt.title('City wise count of employees')\n",
    "plt.xlabel('Employee count')\n",
    "plt.ylabel('City name')\n",
    "plt.show()"
   ]
  },
  {
   "cell_type": "markdown",
   "id": "4098e7d6",
   "metadata": {},
   "source": [
    "#### Interpretation: City named 'South San Francisco' has the highest count of employees i.e, 45."
   ]
  },
  {
   "cell_type": "code",
   "execution_count": null,
   "id": "22b1e313",
   "metadata": {},
   "outputs": [],
   "source": []
  }
 ],
 "metadata": {
  "kernelspec": {
   "display_name": "Python 3 (ipykernel)",
   "language": "python",
   "name": "python3"
  },
  "language_info": {
   "codemirror_mode": {
    "name": "ipython",
    "version": 3
   },
   "file_extension": ".py",
   "mimetype": "text/x-python",
   "name": "python",
   "nbconvert_exporter": "python",
   "pygments_lexer": "ipython3",
   "version": "3.11.5"
  }
 },
 "nbformat": 4,
 "nbformat_minor": 5
}
