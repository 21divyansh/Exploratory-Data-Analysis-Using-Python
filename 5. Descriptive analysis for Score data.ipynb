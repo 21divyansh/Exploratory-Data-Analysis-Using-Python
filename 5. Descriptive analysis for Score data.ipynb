{
 "cells": [
  {
   "cell_type": "markdown",
   "id": "ce76560b",
   "metadata": {},
   "source": [
    "## Task 1: Use the measures of central tendancy to identify the subject in which the students have shown thr best performance. While comparing the performance of three different subjects, one might just look at the average score in each subject and compare which subject has the highest average score and declare that subject as the one in which students have performed the best. Here, you need to look beyound the mean. "
   ]
  },
  {
   "cell_type": "code",
   "execution_count": 1,
   "id": "84803b3e",
   "metadata": {},
   "outputs": [],
   "source": [
    "import pandas as pd\n",
    "import statistics as st"
   ]
  },
  {
   "cell_type": "code",
   "execution_count": 2,
   "id": "0b6c2e86",
   "metadata": {},
   "outputs": [
    {
     "data": {
      "text/html": [
       "<div>\n",
       "<style scoped>\n",
       "    .dataframe tbody tr th:only-of-type {\n",
       "        vertical-align: middle;\n",
       "    }\n",
       "\n",
       "    .dataframe tbody tr th {\n",
       "        vertical-align: top;\n",
       "    }\n",
       "\n",
       "    .dataframe thead th {\n",
       "        text-align: right;\n",
       "    }\n",
       "</style>\n",
       "<table border=\"1\" class=\"dataframe\">\n",
       "  <thead>\n",
       "    <tr style=\"text-align: right;\">\n",
       "      <th></th>\n",
       "      <th>Statistics</th>\n",
       "      <th>Python</th>\n",
       "      <th>Tableau</th>\n",
       "    </tr>\n",
       "  </thead>\n",
       "  <tbody>\n",
       "    <tr>\n",
       "      <th>0</th>\n",
       "      <td>61</td>\n",
       "      <td>86</td>\n",
       "      <td>66</td>\n",
       "    </tr>\n",
       "    <tr>\n",
       "      <th>1</th>\n",
       "      <td>54</td>\n",
       "      <td>86</td>\n",
       "      <td>72</td>\n",
       "    </tr>\n",
       "    <tr>\n",
       "      <th>2</th>\n",
       "      <td>56</td>\n",
       "      <td>80</td>\n",
       "      <td>78</td>\n",
       "    </tr>\n",
       "    <tr>\n",
       "      <th>3</th>\n",
       "      <td>54</td>\n",
       "      <td>85</td>\n",
       "      <td>45</td>\n",
       "    </tr>\n",
       "    <tr>\n",
       "      <th>4</th>\n",
       "      <td>53</td>\n",
       "      <td>84</td>\n",
       "      <td>68</td>\n",
       "    </tr>\n",
       "    <tr>\n",
       "      <th>...</th>\n",
       "      <td>...</td>\n",
       "      <td>...</td>\n",
       "      <td>...</td>\n",
       "    </tr>\n",
       "    <tr>\n",
       "      <th>95</th>\n",
       "      <td>60</td>\n",
       "      <td>76</td>\n",
       "      <td>64</td>\n",
       "    </tr>\n",
       "    <tr>\n",
       "      <th>96</th>\n",
       "      <td>59</td>\n",
       "      <td>89</td>\n",
       "      <td>70</td>\n",
       "    </tr>\n",
       "    <tr>\n",
       "      <th>97</th>\n",
       "      <td>62</td>\n",
       "      <td>80</td>\n",
       "      <td>46</td>\n",
       "    </tr>\n",
       "    <tr>\n",
       "      <th>98</th>\n",
       "      <td>58</td>\n",
       "      <td>89</td>\n",
       "      <td>74</td>\n",
       "    </tr>\n",
       "    <tr>\n",
       "      <th>99</th>\n",
       "      <td>67</td>\n",
       "      <td>77</td>\n",
       "      <td>70</td>\n",
       "    </tr>\n",
       "  </tbody>\n",
       "</table>\n",
       "<p>100 rows × 3 columns</p>\n",
       "</div>"
      ],
      "text/plain": [
       "    Statistics  Python  Tableau\n",
       "0           61      86       66\n",
       "1           54      86       72\n",
       "2           56      80       78\n",
       "3           54      85       45\n",
       "4           53      84       68\n",
       "..         ...     ...      ...\n",
       "95          60      76       64\n",
       "96          59      89       70\n",
       "97          62      80       46\n",
       "98          58      89       74\n",
       "99          67      77       70\n",
       "\n",
       "[100 rows x 3 columns]"
      ]
     },
     "execution_count": 2,
     "metadata": {},
     "output_type": "execute_result"
    }
   ],
   "source": [
    "df=pd.read_csv('DS1_C4_S7_Students_Scores_Data_Practice.csv')\n",
    "df"
   ]
  },
  {
   "cell_type": "code",
   "execution_count": 15,
   "id": "34eae52f",
   "metadata": {},
   "outputs": [],
   "source": [
    "mean=[]\n",
    "median=[]\n",
    "mode=[]\n",
    "\n",
    "for i in df:\n",
    "    mean.append(df.loc[:,i].mean())\n",
    "    median.append(df.loc[:,i].median())\n",
    "    mode.append(st.mode(df[i]))"
   ]
  },
  {
   "cell_type": "code",
   "execution_count": 16,
   "id": "3b0f5e8a",
   "metadata": {},
   "outputs": [
    {
     "name": "stdout",
     "output_type": "stream",
     "text": [
      "  Central_Tendancy Statistics Python Tableau\n",
      "0             Mean      60.89  81.84   68.02\n",
      "1           Median      60.00  82.00   69.00\n",
      "2             Mode      55.00  86.00   65.00\n"
     ]
    }
   ],
   "source": [
    "c1=['Statistics','Python','Tableau']\n",
    "r1=['Mean','Median','Mode']\n",
    "ct_df=pd.DataFrame([mean,median,mode],columns=[c1])\n",
    "ct_df.insert(0,'Central_Tendancy',r1,True)\n",
    "print(ct_df)"
   ]
  },
  {
   "cell_type": "markdown",
   "id": "da84a590",
   "metadata": {},
   "source": [
    "### Interpretation: The above output shows that Python has the highest averge score among the rest of the subjects i.e, 81.84 hence the students have performed the best in Python."
   ]
  },
  {
   "cell_type": "markdown",
   "id": "465dba52",
   "metadata": {},
   "source": [
    "## Task 2: Measure variability to identify the subject that shows the best performance for the class."
   ]
  },
  {
   "cell_type": "code",
   "execution_count": 5,
   "id": "b62db48f",
   "metadata": {},
   "outputs": [],
   "source": [
    "cv=[]\n",
    "mean=[]\n",
    "sd=[]\n",
    "v=[]\n",
    "\n",
    "for i in df:\n",
    "    mean1=df.loc[:,i].mean()\n",
    "    mean.append(mean1)\n",
    "    sd1=df.loc[:,i].std()\n",
    "    sd.append(sd1)\n",
    "    v.append(sd1**2)\n",
    "    cv.append(mean1/sd1*100)\n",
    "    \n",
    "    "
   ]
  },
  {
   "cell_type": "code",
   "execution_count": 6,
   "id": "a75f1d28",
   "metadata": {},
   "outputs": [
    {
     "data": {
      "text/html": [
       "<div>\n",
       "<style scoped>\n",
       "    .dataframe tbody tr th:only-of-type {\n",
       "        vertical-align: middle;\n",
       "    }\n",
       "\n",
       "    .dataframe tbody tr th {\n",
       "        vertical-align: top;\n",
       "    }\n",
       "\n",
       "    .dataframe thead tr th {\n",
       "        text-align: left;\n",
       "    }\n",
       "</style>\n",
       "<table border=\"1\" class=\"dataframe\">\n",
       "  <thead>\n",
       "    <tr>\n",
       "      <th></th>\n",
       "      <th>Variability</th>\n",
       "      <th>Statistics</th>\n",
       "      <th>Python</th>\n",
       "      <th>Tableau</th>\n",
       "    </tr>\n",
       "  </thead>\n",
       "  <tbody>\n",
       "    <tr>\n",
       "      <th>0</th>\n",
       "      <td>Mean</td>\n",
       "      <td>60.890000</td>\n",
       "      <td>81.840000</td>\n",
       "      <td>68.020000</td>\n",
       "    </tr>\n",
       "    <tr>\n",
       "      <th>1</th>\n",
       "      <td>Standar_deviation</td>\n",
       "      <td>7.236126</td>\n",
       "      <td>4.345484</td>\n",
       "      <td>7.320899</td>\n",
       "    </tr>\n",
       "    <tr>\n",
       "      <th>2</th>\n",
       "      <td>Variance</td>\n",
       "      <td>52.361515</td>\n",
       "      <td>18.883232</td>\n",
       "      <td>53.595556</td>\n",
       "    </tr>\n",
       "    <tr>\n",
       "      <th>3</th>\n",
       "      <td>Coefficient_variance</td>\n",
       "      <td>841.472392</td>\n",
       "      <td>1883.334458</td>\n",
       "      <td>929.120921</td>\n",
       "    </tr>\n",
       "  </tbody>\n",
       "</table>\n",
       "</div>"
      ],
      "text/plain": [
       "            Variability  Statistics       Python     Tableau\n",
       "0                  Mean   60.890000    81.840000   68.020000\n",
       "1     Standar_deviation    7.236126     4.345484    7.320899\n",
       "2              Variance   52.361515    18.883232   53.595556\n",
       "3  Coefficient_variance  841.472392  1883.334458  929.120921"
      ]
     },
     "execution_count": 6,
     "metadata": {},
     "output_type": "execute_result"
    }
   ],
   "source": [
    "r2=['Mean','Standar_deviation','Variance','Coefficient_variance']\n",
    "md_df=pd.DataFrame([mean,sd,v,cv],columns=[c1])\n",
    "md_df.insert(0,'Variability',r2,True)\n",
    "md_df"
   ]
  },
  {
   "cell_type": "markdown",
   "id": "2f209d52",
   "metadata": {},
   "source": [
    "## Task 3: Identify the subject in which the scores are the most skewed. "
   ]
  },
  {
   "cell_type": "code",
   "execution_count": 7,
   "id": "21e6a2d1",
   "metadata": {},
   "outputs": [
    {
     "name": "stdout",
     "output_type": "stream",
     "text": [
      "            i  Min  Max  Range    Q1     Q3    IQR  Lower Fence  Upper Fence  \\\n",
      "0  Statistics   50   74     24  54.0  67.00  13.00       34.500       86.500   \n",
      "1      Python   75   89     14  78.0  86.00   8.00       66.000       98.000   \n",
      "2     Tableau   45   79     34  64.0  73.25   9.25       50.125       87.125   \n",
      "\n",
      "                         Outliers  \n",
      "0                        [[], []]  \n",
      "1                        [[], []]  \n",
      "2  [[45, 50, 50, 50, 46, 46], []]  \n"
     ]
    }
   ],
   "source": [
    "\n",
    "for i in df:\n",
    "    LO=[]\n",
    "    UO=[]\n",
    "    s1=pd.Series(df[i])\n",
    "    \n",
    "    Min=min(s1)\n",
    "    Max=max(s1) \n",
    "    Range=Max-Min \n",
    "    \n",
    "    Q1=s1.quantile(0.25) \n",
    "    Q3=s1.quantile(0.75) \n",
    "    IQR=Q3-Q1 \n",
    "    UF=Q3+1.5*IQR \n",
    "    LF=Q1-1.5*IQR \n",
    "    \n",
    "    for l in df[i]:\n",
    "        if(l<LF):\n",
    "            LO.append(l)\n",
    "        if(l>UF):\n",
    "            UO.append(l)\n",
    "    \n",
    "  \n",
    "    if(i==\"Statistics\"):\n",
    "        Statistics=['Statistics',Min, Max, Range, Q1, Q3, IQR, LF, UF,[LO,UO]]\n",
    "    elif(i==\"Python\"):\n",
    "        Python=['Python',Min, Max, Range, Q1, Q3, IQR, LF, UF,[LO,UO]]\n",
    "    else:\n",
    "        Tableau=['Tableau',Min, Max, Range, Q1, Q3, IQR, LF, UF,[LO,UO]] \n",
    "        \n",
    "col_names=['i','Min','Max','Range','Q1','Q3','IQR','Lower Fence', 'Upper Fence','Outliers']\n",
    "\n",
    "d_data=pd.DataFrame([Statistics, Python,Tableau],columns=col_names) \n",
    "print(d_data)"
   ]
  },
  {
   "cell_type": "code",
   "execution_count": null,
   "id": "2735e183",
   "metadata": {},
   "outputs": [],
   "source": []
  },
  {
   "cell_type": "code",
   "execution_count": null,
   "id": "84265c7d",
   "metadata": {},
   "outputs": [],
   "source": []
  },
  {
   "cell_type": "markdown",
   "id": "1cef22f3",
   "metadata": {},
   "source": [
    "## Task 4: Visually present the distribution of scores obtained by the students in different subjects using box plots. Identify the subject for which the scores are the most skewed. "
   ]
  },
  {
   "cell_type": "code",
   "execution_count": 8,
   "id": "ac4e036d",
   "metadata": {},
   "outputs": [],
   "source": [
    "import matplotlib.pyplot as plt\n",
    "\n",
    "stat=df['Statistics'].tolist()\n",
    "py=df['Python'].tolist()\n",
    "tablu=df['Tableau'].tolist()"
   ]
  },
  {
   "cell_type": "code",
   "execution_count": 9,
   "id": "18a3a1b8",
   "metadata": {},
   "outputs": [
    {
     "data": {
      "image/png": "[encoded data removed]",
      "text/plain": [
       "<Figure size 600x400 with 1 Axes>"
      ]
     },
     "metadata": {},
     "output_type": "display_data"
    }
   ],
   "source": [
    "fig = plt.figure(figsize =(6, 4))\n",
    "ax = fig.add_axes([0, 0, 1, 1])\n",
    "plt.boxplot([stat,py,tablu],vert=0)\n",
    "ax.set_yticklabels(['Statistics', 'Python','Tableau'])\n",
    "plt.show()"
   ]
  },
  {
   "cell_type": "markdown",
   "id": "4c2eab16",
   "metadata": {},
   "source": [
    "### Interpretation: The above box plot indicates that only Tableau has outliers present in it. "
   ]
  },
  {
   "cell_type": "code",
   "execution_count": null,
   "id": "7816f0f7",
   "metadata": {},
   "outputs": [],
   "source": []
  },
  {
   "cell_type": "markdown",
   "id": "5f0f5160",
   "metadata": {},
   "source": [
    "## Task 5: Present the distribution of data for each subject using normal distribution curves (bell curve). Observe and report the Kurtosis analysis for every subject."
   ]
  },
  {
   "cell_type": "code",
   "execution_count": 10,
   "id": "81a5df5a",
   "metadata": {},
   "outputs": [
    {
     "data": {
      "image/png": "[encoded data removed]",
      "text/plain": [
       "<Figure size 640x480 with 1 Axes>"
      ]
     },
     "metadata": {},
     "output_type": "display_data"
    }
   ],
   "source": [
    "from scipy.stats import norm\n",
    "\n",
    "stat1=sorted(stat)\n",
    "py1=sorted(py)\n",
    "tablu1=sorted(tablu)\n",
    "\n",
    "s_mean = st.mean(stat)\n",
    "s_sd = st.stdev(stat)\n",
    "p_mean = st.mean(py)\n",
    "p_sd = st.stdev(py)\n",
    "t_mean = st.mean(tablu)\n",
    "t_sd = st.stdev(tablu)\n",
    "\n",
    "\n",
    "plt.plot(stat1, norm.pdf(stat1, s_mean, s_sd), color='red', label='Statistics')\n",
    "plt.plot(py1, norm.pdf(py1, p_mean, p_sd),color='orange', label='Python')\n",
    "plt.plot(tablu1, norm.pdf(tablu1, t_mean, t_sd), color='blue', label='Tableau')\n",
    "plt.legend()\n",
    "plt.show()"
   ]
  },
  {
   "cell_type": "markdown",
   "id": "139a9b95",
   "metadata": {},
   "source": [
    "\n",
    "### Interpretation:  The above kurtosis visual show that 'Python' is Leptokurtic, where as 'Statistics' & 'Tableau' are Mesokurtic. Although the bell curve shows an abnormal in the visual hence it has outliers present in it."
   ]
  },
  {
   "cell_type": "code",
   "execution_count": null,
   "id": "892f3208",
   "metadata": {},
   "outputs": [],
   "source": []
  },
  {
   "cell_type": "code",
   "execution_count": null,
   "id": "b036fa6d",
   "metadata": {},
   "outputs": [],
   "source": []
  },
  {
   "cell_type": "code",
   "execution_count": null,
   "id": "8bbd1c6e",
   "metadata": {},
   "outputs": [],
   "source": []
  },
  {
   "cell_type": "code",
   "execution_count": null,
   "id": "0e7dfa72",
   "metadata": {},
   "outputs": [],
   "source": []
  },
  {
   "cell_type": "code",
   "execution_count": null,
   "id": "e238ded8",
   "metadata": {},
   "outputs": [],
   "source": []
  },
  {
   "cell_type": "code",
   "execution_count": null,
   "id": "bddf703d",
   "metadata": {},
   "outputs": [],
   "source": []
  },
  {
   "cell_type": "code",
   "execution_count": null,
   "id": "b043b9c2",
   "metadata": {},
   "outputs": [],
   "source": []
  },
  {
   "cell_type": "code",
   "execution_count": null,
   "id": "8b72f4f9",
   "metadata": {},
   "outputs": [],
   "source": []
  }
 ],
 "metadata": {
  "kernelspec": {
   "display_name": "Python 3 (ipykernel)",
   "language": "python",
   "name": "python3"
  },
  "language_info": {
   "codemirror_mode": {
    "name": "ipython",
    "version": 3
   },
   "file_extension": ".py",
   "mimetype": "text/x-python",
   "name": "python",
   "nbconvert_exporter": "python",
   "pygments_lexer": "ipython3",
   "version": "3.11.5"
  }
 },
 "nbformat": 4,
 "nbformat_minor": 5
}
