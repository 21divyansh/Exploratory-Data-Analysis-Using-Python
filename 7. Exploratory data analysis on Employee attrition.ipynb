{
 "cells": [
  {
   "cell_type": "markdown",
   "id": "37229822",
   "metadata": {},
   "source": [
    "# Task 1: Display the basic information about the dataset, which includes column names, count of non null records, and data tupe of the columns. Also display the count of missing values of each columns. "
   ]
  },
  {
   "cell_type": "code",
   "execution_count": 1,
   "id": "85154569",
   "metadata": {},
   "outputs": [],
   "source": [
    "import matplotlib.pyplot as plt           \n",
    "from tabulate import tabulate               \n",
    "import matplotlib as mat                   \n",
    "import seaborn as sns                      \n",
    "import pandas as pd                         \n",
    "import numpy as np"
   ]
  },
  {
   "cell_type": "code",
   "execution_count": 2,
   "id": "ceaa38b2",
   "metadata": {},
   "outputs": [
    {
     "data": {
      "text/html": [
       "<div>\n",
       "<style scoped>\n",
       "    .dataframe tbody tr th:only-of-type {\n",
       "        vertical-align: middle;\n",
       "    }\n",
       "\n",
       "    .dataframe tbody tr th {\n",
       "        vertical-align: top;\n",
       "    }\n",
       "\n",
       "    .dataframe thead th {\n",
       "        text-align: right;\n",
       "    }\n",
       "</style>\n",
       "<table border=\"1\" class=\"dataframe\">\n",
       "  <thead>\n",
       "    <tr style=\"text-align: right;\">\n",
       "      <th></th>\n",
       "      <th>Age</th>\n",
       "      <th>Attrition</th>\n",
       "      <th>BusinessTravel</th>\n",
       "      <th>Department</th>\n",
       "      <th>DistanceFromHome</th>\n",
       "      <th>EducationField</th>\n",
       "      <th>EmployeeNumber</th>\n",
       "      <th>EnvironmentSatisfaction</th>\n",
       "      <th>Gender</th>\n",
       "      <th>HourlyRate</th>\n",
       "      <th>...</th>\n",
       "      <th>OverTime</th>\n",
       "      <th>PerformanceRating</th>\n",
       "      <th>RelationshipSatisfaction</th>\n",
       "      <th>TotalWorkingYears</th>\n",
       "      <th>TrainingTimesLastYear</th>\n",
       "      <th>WorkLifeBalance</th>\n",
       "      <th>YearsAtCompany</th>\n",
       "      <th>YearsInCurrentRole</th>\n",
       "      <th>YearsSinceLastPromotion</th>\n",
       "      <th>YearsWithCurrManager</th>\n",
       "    </tr>\n",
       "  </thead>\n",
       "  <tbody>\n",
       "    <tr>\n",
       "      <th>0</th>\n",
       "      <td>41.0</td>\n",
       "      <td>Yes</td>\n",
       "      <td>Travel_Rarely</td>\n",
       "      <td>Sales</td>\n",
       "      <td>1</td>\n",
       "      <td>Life Sciences</td>\n",
       "      <td>1</td>\n",
       "      <td>2</td>\n",
       "      <td>Female</td>\n",
       "      <td>94</td>\n",
       "      <td>...</td>\n",
       "      <td>Yes</td>\n",
       "      <td>3</td>\n",
       "      <td>1</td>\n",
       "      <td>8</td>\n",
       "      <td>0</td>\n",
       "      <td>1</td>\n",
       "      <td>6</td>\n",
       "      <td>4</td>\n",
       "      <td>0</td>\n",
       "      <td>5</td>\n",
       "    </tr>\n",
       "    <tr>\n",
       "      <th>1</th>\n",
       "      <td>49.0</td>\n",
       "      <td>No</td>\n",
       "      <td>Travel_Frequently</td>\n",
       "      <td>Research &amp; Development</td>\n",
       "      <td>8</td>\n",
       "      <td>Life Sciences</td>\n",
       "      <td>2</td>\n",
       "      <td>3</td>\n",
       "      <td>Male</td>\n",
       "      <td>61</td>\n",
       "      <td>...</td>\n",
       "      <td>No</td>\n",
       "      <td>4</td>\n",
       "      <td>4</td>\n",
       "      <td>10</td>\n",
       "      <td>3</td>\n",
       "      <td>3</td>\n",
       "      <td>10</td>\n",
       "      <td>7</td>\n",
       "      <td>1</td>\n",
       "      <td>7</td>\n",
       "    </tr>\n",
       "    <tr>\n",
       "      <th>2</th>\n",
       "      <td>37.0</td>\n",
       "      <td>Yes</td>\n",
       "      <td>Travel_Rarely</td>\n",
       "      <td>Research &amp; Development</td>\n",
       "      <td>2</td>\n",
       "      <td>Other</td>\n",
       "      <td>4</td>\n",
       "      <td>4</td>\n",
       "      <td>Male</td>\n",
       "      <td>92</td>\n",
       "      <td>...</td>\n",
       "      <td>Yes</td>\n",
       "      <td>3</td>\n",
       "      <td>2</td>\n",
       "      <td>7</td>\n",
       "      <td>3</td>\n",
       "      <td>3</td>\n",
       "      <td>0</td>\n",
       "      <td>0</td>\n",
       "      <td>0</td>\n",
       "      <td>0</td>\n",
       "    </tr>\n",
       "    <tr>\n",
       "      <th>3</th>\n",
       "      <td>33.0</td>\n",
       "      <td>No</td>\n",
       "      <td>Travel_Frequently</td>\n",
       "      <td>Research &amp; Development</td>\n",
       "      <td>3</td>\n",
       "      <td>Life Sciences</td>\n",
       "      <td>5</td>\n",
       "      <td>4</td>\n",
       "      <td>Female</td>\n",
       "      <td>56</td>\n",
       "      <td>...</td>\n",
       "      <td>Yes</td>\n",
       "      <td>3</td>\n",
       "      <td>3</td>\n",
       "      <td>8</td>\n",
       "      <td>3</td>\n",
       "      <td>3</td>\n",
       "      <td>8</td>\n",
       "      <td>7</td>\n",
       "      <td>3</td>\n",
       "      <td>0</td>\n",
       "    </tr>\n",
       "    <tr>\n",
       "      <th>4</th>\n",
       "      <td>27.0</td>\n",
       "      <td>No</td>\n",
       "      <td>Travel_Rarely</td>\n",
       "      <td>Research &amp; Development</td>\n",
       "      <td>2</td>\n",
       "      <td>Medical</td>\n",
       "      <td>7</td>\n",
       "      <td>1</td>\n",
       "      <td>Male</td>\n",
       "      <td>40</td>\n",
       "      <td>...</td>\n",
       "      <td>No</td>\n",
       "      <td>3</td>\n",
       "      <td>4</td>\n",
       "      <td>6</td>\n",
       "      <td>3</td>\n",
       "      <td>3</td>\n",
       "      <td>2</td>\n",
       "      <td>2</td>\n",
       "      <td>2</td>\n",
       "      <td>2</td>\n",
       "    </tr>\n",
       "    <tr>\n",
       "      <th>...</th>\n",
       "      <td>...</td>\n",
       "      <td>...</td>\n",
       "      <td>...</td>\n",
       "      <td>...</td>\n",
       "      <td>...</td>\n",
       "      <td>...</td>\n",
       "      <td>...</td>\n",
       "      <td>...</td>\n",
       "      <td>...</td>\n",
       "      <td>...</td>\n",
       "      <td>...</td>\n",
       "      <td>...</td>\n",
       "      <td>...</td>\n",
       "      <td>...</td>\n",
       "      <td>...</td>\n",
       "      <td>...</td>\n",
       "      <td>...</td>\n",
       "      <td>...</td>\n",
       "      <td>...</td>\n",
       "      <td>...</td>\n",
       "      <td>...</td>\n",
       "    </tr>\n",
       "    <tr>\n",
       "      <th>1465</th>\n",
       "      <td>36.0</td>\n",
       "      <td>No</td>\n",
       "      <td>NaN</td>\n",
       "      <td>Research &amp; Development</td>\n",
       "      <td>23</td>\n",
       "      <td>Medical</td>\n",
       "      <td>2061</td>\n",
       "      <td>3</td>\n",
       "      <td>Male</td>\n",
       "      <td>41</td>\n",
       "      <td>...</td>\n",
       "      <td>No</td>\n",
       "      <td>3</td>\n",
       "      <td>3</td>\n",
       "      <td>17</td>\n",
       "      <td>3</td>\n",
       "      <td>3</td>\n",
       "      <td>5</td>\n",
       "      <td>2</td>\n",
       "      <td>0</td>\n",
       "      <td>3</td>\n",
       "    </tr>\n",
       "    <tr>\n",
       "      <th>1466</th>\n",
       "      <td>39.0</td>\n",
       "      <td>No</td>\n",
       "      <td>Travel_Rarely</td>\n",
       "      <td>Research &amp; Development</td>\n",
       "      <td>6</td>\n",
       "      <td>Medical</td>\n",
       "      <td>2062</td>\n",
       "      <td>4</td>\n",
       "      <td>Male</td>\n",
       "      <td>42</td>\n",
       "      <td>...</td>\n",
       "      <td>No</td>\n",
       "      <td>3</td>\n",
       "      <td>1</td>\n",
       "      <td>9</td>\n",
       "      <td>5</td>\n",
       "      <td>3</td>\n",
       "      <td>7</td>\n",
       "      <td>7</td>\n",
       "      <td>1</td>\n",
       "      <td>7</td>\n",
       "    </tr>\n",
       "    <tr>\n",
       "      <th>1467</th>\n",
       "      <td>27.0</td>\n",
       "      <td>No</td>\n",
       "      <td>Travel_Rarely</td>\n",
       "      <td>Research &amp; Development</td>\n",
       "      <td>4</td>\n",
       "      <td>Life Sciences</td>\n",
       "      <td>2064</td>\n",
       "      <td>2</td>\n",
       "      <td>Male</td>\n",
       "      <td>87</td>\n",
       "      <td>...</td>\n",
       "      <td>Yes</td>\n",
       "      <td>4</td>\n",
       "      <td>2</td>\n",
       "      <td>6</td>\n",
       "      <td>0</td>\n",
       "      <td>3</td>\n",
       "      <td>6</td>\n",
       "      <td>2</td>\n",
       "      <td>0</td>\n",
       "      <td>3</td>\n",
       "    </tr>\n",
       "    <tr>\n",
       "      <th>1468</th>\n",
       "      <td>49.0</td>\n",
       "      <td>No</td>\n",
       "      <td>Travel_Frequently</td>\n",
       "      <td>Sales</td>\n",
       "      <td>2</td>\n",
       "      <td>Medical</td>\n",
       "      <td>2065</td>\n",
       "      <td>4</td>\n",
       "      <td>Male</td>\n",
       "      <td>63</td>\n",
       "      <td>...</td>\n",
       "      <td>No</td>\n",
       "      <td>3</td>\n",
       "      <td>4</td>\n",
       "      <td>17</td>\n",
       "      <td>3</td>\n",
       "      <td>2</td>\n",
       "      <td>9</td>\n",
       "      <td>6</td>\n",
       "      <td>0</td>\n",
       "      <td>8</td>\n",
       "    </tr>\n",
       "    <tr>\n",
       "      <th>1469</th>\n",
       "      <td>34.0</td>\n",
       "      <td>No</td>\n",
       "      <td>Travel_Rarely</td>\n",
       "      <td>Research &amp; Development</td>\n",
       "      <td>8</td>\n",
       "      <td>Medical</td>\n",
       "      <td>2068</td>\n",
       "      <td>2</td>\n",
       "      <td>Male</td>\n",
       "      <td>82</td>\n",
       "      <td>...</td>\n",
       "      <td>No</td>\n",
       "      <td>3</td>\n",
       "      <td>1</td>\n",
       "      <td>6</td>\n",
       "      <td>3</td>\n",
       "      <td>4</td>\n",
       "      <td>4</td>\n",
       "      <td>3</td>\n",
       "      <td>1</td>\n",
       "      <td>2</td>\n",
       "    </tr>\n",
       "  </tbody>\n",
       "</table>\n",
       "<p>1470 rows × 27 columns</p>\n",
       "</div>"
      ],
      "text/plain": [
       "       Age Attrition     BusinessTravel              Department  \\\n",
       "0     41.0       Yes      Travel_Rarely                   Sales   \n",
       "1     49.0        No  Travel_Frequently  Research & Development   \n",
       "2     37.0       Yes      Travel_Rarely  Research & Development   \n",
       "3     33.0        No  Travel_Frequently  Research & Development   \n",
       "4     27.0        No      Travel_Rarely  Research & Development   \n",
       "...    ...       ...                ...                     ...   \n",
       "1465  36.0        No                NaN  Research & Development   \n",
       "1466  39.0        No      Travel_Rarely  Research & Development   \n",
       "1467  27.0        No      Travel_Rarely  Research & Development   \n",
       "1468  49.0        No  Travel_Frequently                   Sales   \n",
       "1469  34.0        No      Travel_Rarely  Research & Development   \n",
       "\n",
       "      DistanceFromHome EducationField  EmployeeNumber  \\\n",
       "0                    1  Life Sciences               1   \n",
       "1                    8  Life Sciences               2   \n",
       "2                    2          Other               4   \n",
       "3                    3  Life Sciences               5   \n",
       "4                    2        Medical               7   \n",
       "...                ...            ...             ...   \n",
       "1465                23        Medical            2061   \n",
       "1466                 6        Medical            2062   \n",
       "1467                 4  Life Sciences            2064   \n",
       "1468                 2        Medical            2065   \n",
       "1469                 8        Medical            2068   \n",
       "\n",
       "      EnvironmentSatisfaction  Gender  HourlyRate  ...  OverTime  \\\n",
       "0                           2  Female          94  ...       Yes   \n",
       "1                           3    Male          61  ...        No   \n",
       "2                           4    Male          92  ...       Yes   \n",
       "3                           4  Female          56  ...       Yes   \n",
       "4                           1    Male          40  ...        No   \n",
       "...                       ...     ...         ...  ...       ...   \n",
       "1465                        3    Male          41  ...        No   \n",
       "1466                        4    Male          42  ...        No   \n",
       "1467                        2    Male          87  ...       Yes   \n",
       "1468                        4    Male          63  ...        No   \n",
       "1469                        2    Male          82  ...        No   \n",
       "\n",
       "     PerformanceRating  RelationshipSatisfaction TotalWorkingYears  \\\n",
       "0                    3                         1                 8   \n",
       "1                    4                         4                10   \n",
       "2                    3                         2                 7   \n",
       "3                    3                         3                 8   \n",
       "4                    3                         4                 6   \n",
       "...                ...                       ...               ...   \n",
       "1465                 3                         3                17   \n",
       "1466                 3                         1                 9   \n",
       "1467                 4                         2                 6   \n",
       "1468                 3                         4                17   \n",
       "1469                 3                         1                 6   \n",
       "\n",
       "      TrainingTimesLastYear  WorkLifeBalance YearsAtCompany  \\\n",
       "0                         0                1              6   \n",
       "1                         3                3             10   \n",
       "2                         3                3              0   \n",
       "3                         3                3              8   \n",
       "4                         3                3              2   \n",
       "...                     ...              ...            ...   \n",
       "1465                      3                3              5   \n",
       "1466                      5                3              7   \n",
       "1467                      0                3              6   \n",
       "1468                      3                2              9   \n",
       "1469                      3                4              4   \n",
       "\n",
       "     YearsInCurrentRole  YearsSinceLastPromotion  YearsWithCurrManager  \n",
       "0                     4                        0                     5  \n",
       "1                     7                        1                     7  \n",
       "2                     0                        0                     0  \n",
       "3                     7                        3                     0  \n",
       "4                     2                        2                     2  \n",
       "...                 ...                      ...                   ...  \n",
       "1465                  2                        0                     3  \n",
       "1466                  7                        1                     7  \n",
       "1467                  2                        0                     3  \n",
       "1468                  6                        0                     8  \n",
       "1469                  3                        1                     2  \n",
       "\n",
       "[1470 rows x 27 columns]"
      ]
     },
     "execution_count": 2,
     "metadata": {},
     "output_type": "execute_result"
    }
   ],
   "source": [
    "df=pd.read_csv('DS1_C5_S1_EmployeeAttrition_Data_Practice.csv')\n",
    "df"
   ]
  },
  {
   "cell_type": "code",
   "execution_count": 3,
   "id": "37577a5e",
   "metadata": {},
   "outputs": [
    {
     "data": {
      "text/plain": [
       "Index(['Age', 'Attrition', 'BusinessTravel', 'Department', 'DistanceFromHome',\n",
       "       'EducationField', 'EmployeeNumber', 'EnvironmentSatisfaction', 'Gender',\n",
       "       'HourlyRate', 'JobInvolvement', 'JobRole', 'JobSatisfaction',\n",
       "       'MaritalStatus', 'MonthlyIncome', 'NumCompaniesWorked', 'Over18',\n",
       "       'OverTime', 'PerformanceRating', 'RelationshipSatisfaction',\n",
       "       'TotalWorkingYears', 'TrainingTimesLastYear', 'WorkLifeBalance',\n",
       "       'YearsAtCompany', 'YearsInCurrentRole', 'YearsSinceLastPromotion',\n",
       "       'YearsWithCurrManager'],\n",
       "      dtype='object')"
      ]
     },
     "execution_count": 3,
     "metadata": {},
     "output_type": "execute_result"
    }
   ],
   "source": [
    "df.columns"
   ]
  },
  {
   "cell_type": "code",
   "execution_count": 4,
   "id": "8fabafea",
   "metadata": {},
   "outputs": [
    {
     "data": {
      "text/plain": [
       "Age                         24\n",
       "Attrition                    0\n",
       "BusinessTravel              30\n",
       "Department                   4\n",
       "DistanceFromHome             0\n",
       "EducationField              12\n",
       "EmployeeNumber               0\n",
       "EnvironmentSatisfaction      0\n",
       "Gender                      45\n",
       "HourlyRate                   0\n",
       "JobInvolvement               0\n",
       "JobRole                     10\n",
       "JobSatisfaction              0\n",
       "MaritalStatus               56\n",
       "MonthlyIncome                0\n",
       "NumCompaniesWorked           0\n",
       "Over18                      54\n",
       "OverTime                     0\n",
       "PerformanceRating            0\n",
       "RelationshipSatisfaction     0\n",
       "TotalWorkingYears            0\n",
       "TrainingTimesLastYear        0\n",
       "WorkLifeBalance              0\n",
       "YearsAtCompany               0\n",
       "YearsInCurrentRole           0\n",
       "YearsSinceLastPromotion      0\n",
       "YearsWithCurrManager         0\n",
       "dtype: int64"
      ]
     },
     "execution_count": 4,
     "metadata": {},
     "output_type": "execute_result"
    }
   ],
   "source": [
    "a=df.isnull().sum()\n",
    "a"
   ]
  },
  {
   "cell_type": "code",
   "execution_count": 5,
   "id": "32db826d",
   "metadata": {},
   "outputs": [
    {
     "data": {
      "text/plain": [
       "19"
      ]
     },
     "execution_count": 5,
     "metadata": {},
     "output_type": "execute_result"
    }
   ],
   "source": [
    "a[a==0].count()"
   ]
  },
  {
   "cell_type": "code",
   "execution_count": null,
   "id": "7bb013e1",
   "metadata": {},
   "outputs": [
    {
     "data": {
      "text/plain": [
       "Age                         float64\n",
       "Attrition                    object\n",
       "BusinessTravel               object\n",
       "Department                   object\n",
       "DistanceFromHome              int64\n",
       "EducationField               object\n",
       "EmployeeNumber                int64\n",
       "EnvironmentSatisfaction       int64\n",
       "Gender                       object\n",
       "HourlyRate                    int64\n",
       "JobInvolvement                int64\n",
       "JobRole                      object\n",
       "JobSatisfaction               int64\n",
       "MaritalStatus                object\n",
       "MonthlyIncome                 int64\n",
       "NumCompaniesWorked            int64\n",
       "Over18                       object\n",
       "OverTime                     object\n",
       "PerformanceRating             int64\n",
       "RelationshipSatisfaction      int64\n",
       "TotalWorkingYears             int64\n",
       "TrainingTimesLastYear         int64\n",
       "WorkLifeBalance               int64\n",
       "YearsAtCompany                int64\n",
       "YearsInCurrentRole            int64\n",
       "YearsSinceLastPromotion       int64\n",
       "YearsWithCurrManager          int64\n",
       "dtype: object"
      ]
     },
     "execution_count": 6,
     "metadata": {},
     "output_type": "execute_result"
    }
   ],
   "source": [
    "df.dtypes"
   ]
  },
  {
   "cell_type": "code",
   "execution_count": null,
   "id": "7b99880c",
   "metadata": {},
   "outputs": [],
   "source": [
    "a[a>0]"
   ]
  },
  {
   "cell_type": "markdown",
   "id": "5e37dbe5",
   "metadata": {},
   "source": [
    "# Task 2: Define a function that identifies the data type of columns as categorical or numerical. Separate the names of categorical columns and numerical columns and save them in two different lists. "
   ]
  },
  {
   "cell_type": "code",
   "execution_count": null,
   "id": "c278f7d6",
   "metadata": {},
   "outputs": [],
   "source": [
    "def sep_data(df):\n",
    "    categorical=[]\n",
    "    numerical=[]\n",
    "    for i in df.columns:\n",
    "        if df[i].nunique() > 5:\n",
    "            numerical.append(i)\n",
    "        else:\n",
    "            categorical.append(i)\n",
    "    return categorical,numerical\n",
    "categorical,numerical = sep_data(df)"
   ]
  },
  {
   "cell_type": "code",
   "execution_count": null,
   "id": "48cdd8ae",
   "metadata": {},
   "outputs": [],
   "source": [
    "categorical"
   ]
  },
  {
   "cell_type": "code",
   "execution_count": null,
   "id": "3bbea1a8",
   "metadata": {},
   "outputs": [],
   "source": [
    "numerical"
   ]
  },
  {
   "cell_type": "markdown",
   "id": "38b75107",
   "metadata": {},
   "source": [
    "# Task 3: Perform discriptive analysis of each categorical column (identified in Task 2) by defining a function to print the following information. "
   ]
  },
  {
   "cell_type": "code",
   "execution_count": null,
   "id": "6593e580",
   "metadata": {},
   "outputs": [],
   "source": [
    "def col_info(i):\n",
    "    if df[i].isnull().sum() > 0:\n",
    "        mode=df[i].mode()[0]\n",
    "        df[i].fillna(mode,inplace=True)\n",
    "        \n",
    "    print(f'The number of unique values in {i} is:{df[i].nunique()}')\n",
    "    print(f'The mode of {i} is :{df[i].mode()[0]}')\n",
    "    print(f'The missing values of {i} are :{df[i].isnull().sum()}')\n",
    "   "
   ]
  },
  {
   "cell_type": "code",
   "execution_count": null,
   "id": "69869bfb",
   "metadata": {},
   "outputs": [],
   "source": [
    "col_info('Attrition')"
   ]
  },
  {
   "cell_type": "code",
   "execution_count": null,
   "id": "4efdeb61",
   "metadata": {},
   "outputs": [],
   "source": [
    "col_info('Department')"
   ]
  },
  {
   "cell_type": "markdown",
   "id": "167b0d20",
   "metadata": {},
   "source": [
    "# Task 4: Perform descriptive analysis on categorical columns with the help of univariate graph charts as mentioned below. "
   ]
  },
  {
   "cell_type": "code",
   "execution_count": null,
   "id": "40fbc16c",
   "metadata": {},
   "outputs": [],
   "source": [
    "col_info('Attrition')"
   ]
  },
  {
   "cell_type": "code",
   "execution_count": null,
   "id": "6a4c9a09",
   "metadata": {},
   "outputs": [],
   "source": [
    "fig, ax = plt.subplots(1,2, figsize = (10, 5))\n",
    "ax[0].set_title(\"Count of Attrition\")                 \n",
    "percentage = df[\"Attrition\"].value_counts()        \n",
    "labels = list(df[\"Attrition\"].value_counts().index) \n",
    "\n",
    "sns.countplot(x = df[\"Attrition\"], ax = ax[0])\n",
    "plt.pie(percentage,labels = labels, autopct= \"%0.2f%%\")\n",
    "\n",
    "plt.show()"
   ]
  },
  {
   "cell_type": "markdown",
   "id": "87fd2364",
   "metadata": {},
   "source": [
    "## Interpretation: The above visual shows that more than 83% of the customers prefers attrition."
   ]
  },
  {
   "cell_type": "code",
   "execution_count": null,
   "id": "8b32045a",
   "metadata": {},
   "outputs": [],
   "source": [
    "col_info('BusinessTravel')"
   ]
  },
  {
   "cell_type": "code",
   "execution_count": null,
   "id": "b7ed02d5",
   "metadata": {},
   "outputs": [],
   "source": [
    "fig, ax = plt.subplots(1,2, figsize = (10, 5))\n",
    "ax[0].set_title(\"Count of Business travel customers\")                 \n",
    "percentage = df[\"BusinessTravel\"].value_counts()        \n",
    "labels = list(df[\"BusinessTravel\"].value_counts().index) \n",
    "\n",
    "sns.countplot(x = df[\"BusinessTravel\"], ax = ax[0])\n",
    "plt.pie(percentage,labels = labels, autopct= \"%0.2f%%\")\n",
    "\n",
    "plt.show()"
   ]
  },
  {
   "cell_type": "markdown",
   "id": "8eb06375",
   "metadata": {},
   "source": [
    "## Interpretation: The above visual shows that the majority of employees travel rarely and approximately 10% of employees do not travel at all."
   ]
  },
  {
   "cell_type": "code",
   "execution_count": null,
   "id": "a8f2a003",
   "metadata": {},
   "outputs": [],
   "source": [
    "col_info('Department')"
   ]
  },
  {
   "cell_type": "code",
   "execution_count": null,
   "id": "8071b2a5",
   "metadata": {},
   "outputs": [],
   "source": [
    "fig, ax =plt.subplots(1,2, figsize=(12,5))\n",
    "ax[0].set_title(\"Count of employees in each department\")\n",
    "percentage=df['Department'].value_counts()\n",
    "labels=list(df['Department'].value_counts().index)\n",
    "\n",
    "sns.countplot(x=df['Department'],ax=ax[0])\n",
    "ax[0].set_xticklabels(ax[0].get_xticklabels(), rotation = 40 , ha = \"right\")\n",
    "plt.pie(percentage,labels=labels,autopct= \"%0.2f%%\",explode=[0.1, 0.2, 0.3])\n",
    "\n",
    "plt.show()"
   ]
  },
  {
   "cell_type": "markdown",
   "id": "e318b177",
   "metadata": {},
   "source": [
    "## Interpretation:  The above visual shows that approximately 65% of employees belong to research and development department and only 4 % in HR department and rest of them belong to sales department."
   ]
  },
  {
   "cell_type": "code",
   "execution_count": null,
   "id": "31b34b3c",
   "metadata": {},
   "outputs": [],
   "source": [
    "col_info('EducationField')"
   ]
  },
  {
   "cell_type": "code",
   "execution_count": null,
   "id": "22cb91d2",
   "metadata": {},
   "outputs": [],
   "source": [
    "fig,ax=plt.subplots(1,2,figsize=(12,6))\n",
    "ax[0].set_title(\"Count of employees in education fields\")\n",
    "percentage=df['EducationField'].value_counts()\n",
    "l=list(df['EducationField'].value_counts().index)\n",
    "\n",
    "sns.countplot(x=df['EducationField'],ax=ax[0])\n",
    "ax[0].set_xticklabels(ax[0].get_xticklabels(),rotation=40,ha=\"right\")\n",
    "plt.pie(percentage,labels=l,autopct= \"%0.2f%%\",explode=[0.01,0.03,0.05,0.07,0.09,0.2])\n",
    "plt.show()"
   ]
  },
  {
   "cell_type": "markdown",
   "id": "33c5a188",
   "metadata": {},
   "source": [
    "## Interpretation: The above visual shows that approximately 41% of employees belong from life science stream and 31% from medicals whereas there are the least number of employees belong from human resourses."
   ]
  },
  {
   "cell_type": "code",
   "execution_count": null,
   "id": "d8d8a550",
   "metadata": {},
   "outputs": [],
   "source": [
    "col_info('EnvironmentSatisfaction')"
   ]
  },
  {
   "cell_type": "code",
   "execution_count": null,
   "id": "668b1ff8",
   "metadata": {},
   "outputs": [],
   "source": [
    "def bar_percentage(ax, count: \"number of rows in data \"):\n",
    "    for bar in ax.patches:                                           \n",
    "        percentage = f\"{round((bar.get_height() / count) *100, 2)}%\"  \n",
    "                                                                            \n",
    "        x = bar.get_x() + bar.get_width() /2                          \n",
    "        y = bar.get_height()                                         \n",
    "        ax.annotate(percentage, (x, y), va = \"bottom\", ha = \"center\") \n",
    "                                                                      \n",
    "                                                                     \n",
    "    plt.show()"
   ]
  },
  {
   "cell_type": "code",
   "execution_count": null,
   "id": "aaf2739f",
   "metadata": {},
   "outputs": [],
   "source": [
    "\n",
    "fig, ax = plt.subplots(figsize  = (10 , 6))\n",
    "ax.set_title(\"Count of employees as per environment satisfaction\")\n",
    "ax = sns.countplot(x = df[\"EnvironmentSatisfaction\"])\n",
    "bar_percentage(ax, len(df))                           \n"
   ]
  },
  {
   "cell_type": "markdown",
   "id": "3f0da16d",
   "metadata": {},
   "source": [
    "## Interpretation: The above visual shows that approximately 60 % of the employees has an environment satisfaction of 3 and 4 whereas rest has 1 and 2."
   ]
  },
  {
   "cell_type": "code",
   "execution_count": null,
   "id": "060acffc",
   "metadata": {},
   "outputs": [],
   "source": [
    "col_info('Gender')"
   ]
  },
  {
   "cell_type": "code",
   "execution_count": null,
   "id": "50e85247",
   "metadata": {},
   "outputs": [],
   "source": [
    "\n",
    "fig, ax = plt.subplots(figsize  = (10 , 6))\n",
    "ax.set_title(\"Count of employees as per environment satisfaction\")\n",
    "ax = sns.countplot(x = df[\"Gender\"])\n",
    "bar_percentage(ax, len(df))                           \n"
   ]
  },
  {
   "cell_type": "markdown",
   "id": "a84d2868",
   "metadata": {},
   "source": [
    "## Interpretation: The above visual shows that the male and female ration is 3:2."
   ]
  },
  {
   "cell_type": "code",
   "execution_count": null,
   "id": "7e325927",
   "metadata": {},
   "outputs": [],
   "source": [
    "col_info('MaritalStatus')"
   ]
  },
  {
   "cell_type": "code",
   "execution_count": null,
   "id": "ed800bc6",
   "metadata": {},
   "outputs": [],
   "source": [
    "fig, ax = plt.subplots(figsize  = (10 , 6))\n",
    "ax.set_title(\"Count of employees as per environment satisfaction\")\n",
    "ax = sns.countplot(x = df[\"MaritalStatus\"])\n",
    "bar_percentage(ax, len(df))                           \n"
   ]
  },
  {
   "cell_type": "markdown",
   "id": "8cf018c1",
   "metadata": {},
   "source": [
    "## Interpretation : The above visual shows that  approximately 30% of employees are still single and 48% married."
   ]
  },
  {
   "cell_type": "code",
   "execution_count": null,
   "id": "69e7a741",
   "metadata": {},
   "outputs": [],
   "source": [
    "col_info('OverTime')"
   ]
  },
  {
   "cell_type": "code",
   "execution_count": null,
   "id": "c1895451",
   "metadata": {},
   "outputs": [],
   "source": [
    "plt.title(\"OverTime Pie Chart\")\n",
    "percentage=df['OverTime'].value_counts()\n",
    "l=list(df['OverTime'].value_counts().index)\n",
    "plt.pie(percentage, labels=l,autopct=\"%0.2f%%\")\n",
    "plt.show()"
   ]
  },
  {
   "cell_type": "markdown",
   "id": "15a6e4a4",
   "metadata": {},
   "source": [
    "## Interpretation: The above visual shows that approximately only 28% of employees are doing overtime."
   ]
  },
  {
   "cell_type": "code",
   "execution_count": null,
   "id": "9616ec4e",
   "metadata": {},
   "outputs": [],
   "source": [
    "col_info('PerformanceRating')"
   ]
  },
  {
   "cell_type": "code",
   "execution_count": null,
   "id": "6303034c",
   "metadata": {},
   "outputs": [],
   "source": [
    "plt.title(\"Performance Rating Pie chart\")\n",
    "percentage=df['PerformanceRating'].value_counts()\n",
    "l=list(df['PerformanceRating'].value_counts().index)\n",
    "plt.pie(percentage, labels=l,autopct=\"%0.2f%%\")\n",
    "plt.show()"
   ]
  },
  {
   "cell_type": "markdown",
   "id": "fdc5daa8",
   "metadata": {},
   "source": [
    "## Interpretation:  The above visual shows that approximately only 15 % of employees rated 4 and rest of them rated 3."
   ]
  },
  {
   "cell_type": "code",
   "execution_count": null,
   "id": "63cc35d8",
   "metadata": {},
   "outputs": [],
   "source": [
    "col_info('WorkLifeBalance')"
   ]
  },
  {
   "cell_type": "code",
   "execution_count": null,
   "id": "a625fd92",
   "metadata": {},
   "outputs": [],
   "source": [
    "plt.title(\"Work life balance pie chart\")\n",
    "percentage=df['WorkLifeBalance'].value_counts()\n",
    "l=list(df['WorkLifeBalance'].value_counts().index)\n",
    "plt.pie(percentage, labels=l,autopct=\"%0.2f%%\",explode=[0.01,0.04,0.07,0.09])\n",
    "plt.show()"
   ]
  },
  {
   "cell_type": "markdown",
   "id": "b96fdc83",
   "metadata": {},
   "source": [
    "## Interpretation: The above visual shows that apprximately 10% of employees are having best work life balance and most of the employees have rated 3 for work life balance."
   ]
  },
  {
   "cell_type": "code",
   "execution_count": null,
   "id": "655d01d1",
   "metadata": {},
   "outputs": [],
   "source": [
    "col_info('JobInvolvement')"
   ]
  },
  {
   "cell_type": "code",
   "execution_count": null,
   "id": "39354b1f",
   "metadata": {},
   "outputs": [],
   "source": [
    "plt.title(\"Job Involvement pie chart\")\n",
    "p=df['JobInvolvement'].value_counts()\n",
    "l=list(df['JobInvolvement'].value_counts().index)\n",
    "plt.pie(percentage,labels=l,autopct=\"%0.2f%%\",explode=[0.01,0.05,0.1,0.17])\n",
    "plt.show() "
   ]
  },
  {
   "cell_type": "markdown",
   "id": "abd071b7",
   "metadata": {},
   "source": [
    "## Interpretation: The above visual shows that approximately only 10% of the employees are experiencing best job involvement."
   ]
  },
  {
   "cell_type": "markdown",
   "id": "cf0e7399",
   "metadata": {},
   "source": [
    "# Task 5: Perform descriptive analysis of each numerical column by defining a function to print the following information."
   ]
  },
  {
   "cell_type": "code",
   "execution_count": null,
   "id": "aab7ba5c",
   "metadata": {},
   "outputs": [],
   "source": [
    "def num_info(i):\n",
    "    if df[i].isnull().sum() > 0:\n",
    "        mode=df[i].mode()[0]\n",
    "        df[i].fillna(mode,inplace=True)\n",
    "        \n",
    "    print(f'The number of unique values in {i} is:{df[i].nunique()}')\n",
    "    print(f'The mean of values in {i} is : {df[i].mean()}')\n",
    "    print(f'The median of the values in {i} is : {df[i].median()}')\n",
    "    \n",
    "    print(f'The skewness of {i} is : {df[i].skew()}')\n",
    "    print(f'The missing values of {i} are :{df[i].isnull().sum()}')"
   ]
  },
  {
   "cell_type": "code",
   "execution_count": null,
   "id": "4e3a4b99",
   "metadata": {},
   "outputs": [],
   "source": [
    "num_info('Age')"
   ]
  },
  {
   "cell_type": "markdown",
   "id": "53e5687f",
   "metadata": {},
   "source": [
    "## Task 6:Perform descriptive analysis with the help of univariate graph/charts for the following numerical columns. "
   ]
  },
  {
   "cell_type": "code",
   "execution_count": null,
   "id": "5ee1312d",
   "metadata": {},
   "outputs": [],
   "source": [
    "num_info('Age')"
   ]
  },
  {
   "cell_type": "code",
   "execution_count": null,
   "id": "f7dbe11d",
   "metadata": {},
   "outputs": [],
   "source": [
    "fig, ax = plt.subplots(1, 2, figsize= (20, 7))\n",
    "ax[0].set_title(\"Box plot\")\n",
    "ax[1].set_title(\"Histogram\")\n",
    "sns.histplot(x = df[\"Age\"], ax =ax[1], color = \"orange\")\n",
    "sns.boxplot(x = df[\"Age\"], ax = ax[0], color = \"lightblue\")\n",
    "plt.show()"
   ]
  },
  {
   "cell_type": "markdown",
   "id": "eb6ba876",
   "metadata": {},
   "source": [
    "## Interpretation:  The above visual shows that most of the employees are aged between 30 to 40 and less than 25 employees are around 55 years old."
   ]
  },
  {
   "cell_type": "code",
   "execution_count": null,
   "id": "1c4ca336",
   "metadata": {},
   "outputs": [],
   "source": [
    "num_info('HourlyRate')"
   ]
  },
  {
   "cell_type": "code",
   "execution_count": null,
   "id": "575e04ab",
   "metadata": {},
   "outputs": [],
   "source": [
    "fig, ax = plt.subplots(1, 2, figsize= (20, 7))\n",
    "ax[0].set_title(\"Box plot\")\n",
    "ax[1].set_title(\"Histogram\")\n",
    "sns.histplot(x = df['HourlyRate'], ax =ax[1], color = \"orange\") \n",
    "sns.boxplot(x = df['HourlyRate'], ax = ax[0], color = \"yellow\")\n",
    "plt.show()"
   ]
  },
  {
   "cell_type": "markdown",
   "id": "fd372ce6",
   "metadata": {},
   "source": [
    "## Interpretation: The above visual shows that more than 120 employees have an hourly rate of 90 to 100 and approximately 100 employees have an hourly rate of 65. "
   ]
  },
  {
   "cell_type": "code",
   "execution_count": null,
   "id": "c6476cd8",
   "metadata": {},
   "outputs": [],
   "source": [
    "num_info('MonthlyIncome')"
   ]
  },
  {
   "cell_type": "code",
   "execution_count": null,
   "id": "3b2aee22",
   "metadata": {},
   "outputs": [],
   "source": [
    "fig, ax = plt.subplots(1, 2, figsize= (20, 7))\n",
    "ax[0].set_title(\"Box plot\")\n",
    "ax[1].set_title(\"Histogram\")\n",
    "sns.histplot(x = df['MonthlyIncome'], ax =ax[1], color = \"orange\") \n",
    "sns.boxplot(x = df['MonthlyIncome'], ax = ax[0], color = \"lightgreen\")\n",
    "plt.show()"
   ]
  },
  {
   "cell_type": "markdown",
   "id": "21ad3450",
   "metadata": {},
   "source": [
    "## Interpretation: The above visual shows that there are multiple outliers in the data as a result more than 300 employees have a salary of 2500."
   ]
  },
  {
   "cell_type": "code",
   "execution_count": null,
   "id": "b622172f",
   "metadata": {},
   "outputs": [],
   "source": []
  }
 ],
 "metadata": {
  "kernelspec": {
   "display_name": "Python 3 (ipykernel)",
   "language": "python",
   "name": "python3"
  },
  "language_info": {
   "codemirror_mode": {
    "name": "ipython",
    "version": 3
   },
   "file_extension": ".py",
   "mimetype": "text/x-python",
   "name": "python",
   "nbconvert_exporter": "python",
   "pygments_lexer": "ipython3",
   "version": "3.11.5"
  }
 },
 "nbformat": 4,
 "nbformat_minor": 5
}
